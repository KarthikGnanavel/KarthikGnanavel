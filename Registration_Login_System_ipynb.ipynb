{
  "nbformat": 4,
  "nbformat_minor": 0,
  "metadata": {
    "colab": {
      "provenance": [],
      "include_colab_link": true
    },
    "kernelspec": {
      "name": "python3",
      "display_name": "Python 3"
    },
    "language_info": {
      "name": "python"
    }
  },
  "cells": [
    {
      "cell_type": "markdown",
      "metadata": {
        "id": "view-in-github",
        "colab_type": "text"
      },
      "source": [
        "<a href=\"https://colab.research.google.com/github/KarthikGnanavel/KarthikGnanavel/blob/main/Registration_Login_System_ipynb.ipynb\" target=\"_parent\"><img src=\"https://colab.research.google.com/assets/colab-badge.svg\" alt=\"Open In Colab\"/></a>"
      ]
    },
    {
      "cell_type": "code",
      "execution_count": null,
      "metadata": {
        "colab": {
          "base_uri": "https://localhost:8080/"
        },
        "id": "INGqFJEpnqjo",
        "outputId": "3767c5d1-b6fb-4ace-d22e-41f0c65ad71e"
      },
      "outputs": [
        {
          "output_type": "execute_result",
          "data": {
            "text/plain": [
              "<_io.TextIOWrapper name='task.txt' mode='x' encoding='UTF-8'>"
            ]
          },
          "metadata": {},
          "execution_count": 1
        }
      ],
      "source": [
        "fl=open(\"task.txt\",\"x\")\n",
        "fl"
      ]
    },
    {
      "cell_type": "code",
      "source": [
        "def register():\n",
        "  fl=open(\"task.txt\",\"r\")\n",
        "  email=input(\"create email:\")\n",
        "  password=input(\"create password:\")\n",
        "  password1=input(\"conform password:\")\n",
        "  d=[]\n",
        "  f=[]\n",
        "  for i in fl:\n",
        "    a,b=i.split(\",\")\n",
        "    b=b.strip()\n",
        "    d.append(a)\n",
        "    f.append(b)\n",
        "  data=dict(zip(d, f))\n",
        "#  print(data)\n",
        "  if password!=password1:\n",
        "    print(\"password is wrong,restart\")\n",
        "    register()\n",
        "  else:\n",
        "   if len(password)<5:\n",
        "      print(\"password is  short,restart:\") \n",
        "      register() \n",
        "   elif email in d:\n",
        "      print(\"email exists\")\n",
        "      register()\n",
        "   else:\n",
        "      fl=open(\"task.txt\",\"a\")\n",
        "      fl.write(email+\",\"+password+\"\\n\")\n",
        "      print(\"success\")    \n",
        "#register() \n",
        "\n",
        "def display():\n",
        "  fl=open(\"task.txt\",\"r\")\n",
        "  email=input(\"enter email:\")\n",
        "  password=input(\"enter password:\")\n",
        "\n",
        "  if not len(email or password)<5:\n",
        "    d=[]\n",
        "    f=[]\n",
        "    for i in fl:\n",
        "      a,b=i.split(\",\")\n",
        "      b=b.strip()\n",
        "      d.append(a)\n",
        "      f.append(b)\n",
        "    data=dict(zip(d, f))\n",
        "    if data[email]:\n",
        "      try:\n",
        "        if password==data[email]:\n",
        "          print(\"login successfull\")\n",
        "        else:\n",
        "          print(\"email or password incorrect\")\n",
        "      except:\n",
        "        print(\"email or password doesn't exists\")\n",
        "    else:\n",
        "      print(\"email or password doesn't exists\")\n",
        "  else:\n",
        "    print(\"enter valid email\")\n",
        "#register()\n",
        "def home(option=None):\n",
        "  option=input(\"Login | Signup:\")\n",
        "  if option==\"Login\":\n",
        "    display()\n",
        "  elif option==\"Signup\":\n",
        "    register()\n",
        "  else:\n",
        "    print(\"enter option\")\n",
        "\n",
        "home()"
      ],
      "metadata": {
        "id": "TTY6KTrWn7_w"
      },
      "execution_count": null,
      "outputs": []
    },
    {
      "cell_type": "code",
      "source": [],
      "metadata": {
        "id": "N8diPyJ5owNa"
      },
      "execution_count": null,
      "outputs": []
    }
  ]
}